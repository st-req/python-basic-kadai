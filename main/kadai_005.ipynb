{
  "nbformat": 4,
  "nbformat_minor": 0,
  "metadata": {
    "colab": {
      "provenance": []
    },
    "kernelspec": {
      "name": "python3",
      "display_name": "Python 3"
    },
    "language_info": {
      "name": "python"
    }
  },
  "cells": [
    {
      "cell_type": "code",
      "execution_count": 2,
      "metadata": {
        "colab": {
          "base_uri": "https://localhost:8080/"
        },
        "id": "jMGT-b8LFWtd",
        "outputId": "2b9f92eb-e4c6-4f8b-a353-700826eb4328"
      },
      "outputs": [
        {
          "output_type": "stream",
          "name": "stdout",
          "text": [
            "75.0cm²\n"
          ]
        }
      ],
      "source": [
        "#変数を使って四則演算しよう\n",
        "\n",
        "upper_side = 10\n",
        "bottom = 20\n",
        "heigh = 5\n",
        "\n",
        "Area_of_trapezid = ((upper_side + bottom) * heigh) / 2\n",
        "\n",
        "print(f\"{Area_of_trapezid}cm²\")"
      ]
    }
  ]
}